{
 "cells": [
  {
   "cell_type": "code",
   "execution_count": 1,
   "metadata": {
    "collapsed": false
   },
   "outputs": [],
   "source": [
    "import numpy as np\n",
    "import pandas as pd\n",
    "from bokeh.charts import Bar, output_file, show, hplot, Scatter\n",
    "import psycopg2\n",
    "conn = psycopg2.connect(database=\"taxi\", user=\"postgres\", password=\"guest\", \n",
    "                        host=\"ec2-54-197-5-212.compute-1.amazonaws.com\", port=\"5432\")"
   ]
  },
  {
   "cell_type": "markdown",
   "metadata": {},
   "source": [
    "### This section visualizes the types of places the block id is located by showing the counts of various places"
   ]
  },
  {
   "cell_type": "code",
   "execution_count": 16,
   "metadata": {
    "collapsed": false
   },
   "outputs": [],
   "source": [
    "cur = conn.cursor()\n",
    "cur.execute(\"select * from google_places_type where block_id=899;\")\n",
    "output=cur.fetchall()\n",
    "conn.commit()\n",
    "\n",
    "colnames = ['block_id', 'lodging','clothing_store','cafe','restaurant','school','health','meal_delivery',\n",
    "'point_of_interest','subway_station','electronics_store','home_goods_store','bar','police','convenience_store','store',\n",
    "'synagogue','furniture_store','food','sublocality_level_1','florist','bicycle_store','locality','hardware_store','night_club',\n",
    "'park','grocery_or_supermarket','general_contractor','pharmacy','church','jewelry_store','bakery','meal_takeaway','pet_store',\n",
    "'shoe_store','post_office','book_store','neighborhood','art_gallery','finance','gym','lawyer','doctor','insurance_agency',\n",
    "'real_estate_agency','accounting','car_dealer','physiotherapist','travel_agency','liquor_store','parking','bus_station',\n",
    "'atm','hospital','spa','movie_theater','library','museum','moving_company','cemetery','storage','local_government_office',\n",
    "'car_repair','transit_station','courthouse','gas_station','dentist','department_store','car_rental','hindu_temple','funeral_home',\n",
    "'painter','car_wash','bank','mosque','locksmith','university','hair_care','beauty_salon','shopping_mall','place_of_worship',\n",
    "'roofing_contractor','plumber','laundry','veterinary_care','electrician','amusement_park','stadium','movie_rental','campground',\n",
    "'bowling_alley','premise','natural_feature','zoo','aquarium','light_rail_station','rv_park','embassy','city_hall','airport',\n",
    "'fire_station','casino']\n",
    "df = pd.DataFrame(output, columns=colnames) ##initialize pandas dataframe\n",
    "\n",
    "df_melt = pd.melt(df, id_vars=['block_id'], var_name='Type', value_name='Count') ##conver it to stacked \n",
    "block_id = df_melt['block_id'][0] ##name for chart\n",
    "df_melt = df_melt[df_melt['Count'] >= 0]\n",
    "\n",
    "ignore_type = ['locality', 'sublocality_level_1', 'point_of_interest', 'sublocality', 'political', 'establishment']\n",
    "\n",
    "df_melt = df_melt[~df_melt['Type'].isin(ignore_type)] ##remove the \"uninteresting\" types"
   ]
  },
  {
   "cell_type": "code",
   "execution_count": 17,
   "metadata": {
    "collapsed": false
   },
   "outputs": [],
   "source": [
    "chart_title = 'Types of Places for Block ID ' + str(block_id)\n",
    "\n",
    "bar = Bar(df_melt[['Type', 'Count']], 'Type', values='Count', title=chart_title, width=800, legend=None)\n",
    "bar.logo = None\n",
    "bar.toolbar_location = None\n",
    "show(bar)"
   ]
  },
  {
   "cell_type": "markdown",
   "metadata": {},
   "source": [
    "### This section visualizes the relationship between Precipitation Amount and Total Tip Across Months and Years"
   ]
  },
  {
   "cell_type": "code",
   "execution_count": 21,
   "metadata": {
    "collapsed": false
   },
   "outputs": [],
   "source": [
    "cur = conn.cursor()\n",
    "cur.execute(\"select extract(year from date(datetime)) as year, extract(month from date(datetime)) as month, sum(precip_intensity) as sum_precip from weather group by extract(year from date(datetime)), extract(month from date(datetime));\")\n",
    "output=cur.fetchall()\n",
    "conn.commit()\n",
    "\n",
    "weather = pd.DataFrame(output, columns=['Year', 'Month', 'Total_Precipitation'])\n",
    "\n",
    "cur = conn.cursor()\n",
    "cur.execute(\"select block_id, extract(year from date) as year, extract(month from date) as month, tips/fares from trips_by_month where block_id = 500\")\n",
    "output=cur.fetchall()\n",
    "conn.commit()\n",
    "\n",
    "by_month = pd.DataFrame(output, columns = ['Block_id', 'Year', 'Month', 'Tip_Fair_ratio'])"
   ]
  },
  {
   "cell_type": "code",
   "execution_count": 23,
   "metadata": {
    "collapsed": false
   },
   "outputs": [],
   "source": [
    "block_id = by_month['Block_id'][0] ##name for chart\n",
    "tip_fair = by_month.merge(weather, left_on=['Year', 'Month'], right_on=['Year','Month']).sort_values(['Year', 'Month'])\n",
    "tip_fair['Year']=tip_fair['Year'].astype(int)\n",
    "tip_fair['Total_Precipitation'] = np.log(tip_fair['Total_Precipitation'])\n",
    "chart_title = 'Tip to Fair Ratio for Block ID ' + str(block_id) + ' vs Total Precipitation'\n",
    "\n",
    "p = Scatter(tip_fair, x='Total_Precipitation', y = 'Tip_Fair_ratio', marker='Year', color='Year', legend=\"top_right\",\n",
    "         xlabel='Log(Precipitation)', ylabel='Tip to Fair Ratio', title=chart_title)\n",
    "p.logo = None\n",
    "p.toolbar_location = None\n",
    "show(p)"
   ]
  }
 ],
 "metadata": {
  "anaconda-cloud": {},
  "kernelspec": {
   "display_name": "Python [Root]",
   "language": "python",
   "name": "Python [Root]"
  },
  "language_info": {
   "codemirror_mode": {
    "name": "ipython",
    "version": 2
   },
   "file_extension": ".py",
   "mimetype": "text/x-python",
   "name": "python",
   "nbconvert_exporter": "python",
   "pygments_lexer": "ipython2",
   "version": "2.7.12"
  }
 },
 "nbformat": 4,
 "nbformat_minor": 0
}
